{
 "cells": [
  {
   "cell_type": "code",
   "execution_count": 1,
   "metadata": {},
   "outputs": [],
   "source": [
    "import statsmodels\n",
    "import numpy as np\n",
    "import matplotlib.pylab as plt"
   ]
  },
  {
   "cell_type": "code",
   "execution_count": 7,
   "metadata": {},
   "outputs": [
    {
     "data": {
      "text/plain": [
       "(100, 50)"
      ]
     },
     "execution_count": 7,
     "metadata": {},
     "output_type": "execute_result"
    }
   ],
   "source": [
    "array = np.ones((100,50))\n",
    "array.shape"
   ]
  },
  {
   "cell_type": "code",
   "execution_count": 8,
   "metadata": {},
   "outputs": [
    {
     "data": {
      "text/plain": [
       "(100, 50)"
      ]
     },
     "execution_count": 8,
     "metadata": {},
     "output_type": "execute_result"
    }
   ],
   "source": [
    "array1 = np.zeros((100,50))\n",
    "array.shape"
   ]
  },
  {
   "cell_type": "code",
   "execution_count": 10,
   "metadata": {},
   "outputs": [
    {
     "data": {
      "text/plain": [
       "array([[1., 1., 1., ..., 1., 1., 1.],\n",
       "       [1., 1., 1., ..., 1., 1., 1.],\n",
       "       [1., 1., 1., ..., 1., 1., 1.],\n",
       "       ...,\n",
       "       [0., 0., 0., ..., 0., 0., 0.],\n",
       "       [0., 0., 0., ..., 0., 0., 0.],\n",
       "       [0., 0., 0., ..., 0., 0., 0.]])"
      ]
     },
     "execution_count": 10,
     "metadata": {},
     "output_type": "execute_result"
    }
   ],
   "source": [
    "array_combined = np.concatenate((array, array1))\n",
    "array_combined"
   ]
  },
  {
   "cell_type": "code",
   "execution_count": 12,
   "metadata": {},
   "outputs": [
    {
     "data": {
      "text/plain": [
       "array([[1., 1., 1., ..., 1., 1., 1.],\n",
       "       [1., 1., 1., ..., 1., 1., 1.],\n",
       "       [1., 1., 1., ..., 1., 1., 1.],\n",
       "       ...,\n",
       "       [1., 1., 1., ..., 1., 1., 1.],\n",
       "       [1., 1., 1., ..., 1., 1., 1.],\n",
       "       [1., 1., 1., ..., 1., 1., 1.]])"
      ]
     },
     "execution_count": 12,
     "metadata": {},
     "output_type": "execute_result"
    }
   ],
   "source": [
    "array3 = (array + array1)\n",
    "array3"
   ]
  },
  {
   "cell_type": "code",
   "execution_count": 24,
   "metadata": {},
   "outputs": [],
   "source": [
    "mean = [0, 0]\n",
    "cov = [[1, 0], [0, 100]]\n",
    "array4 = np.random.multivariate_normal(mean, cov, (20, 40))\n",
    "array5 = np.random.multivariate_normal(mean, cov, (20, 40))"
   ]
  },
  {
   "cell_type": "code",
   "execution_count": 23,
   "metadata": {},
   "outputs": [
    {
     "data": {
      "text/plain": [
       "array([[[-5.34336591e-01,  1.40015712e+02],\n",
       "        [ 7.81886668e-01, -6.89520682e+01],\n",
       "        [-2.54922813e-03,  5.33343898e+01],\n",
       "        ...,\n",
       "        [ 1.16490378e+00, -2.22397077e+01],\n",
       "        [ 3.12723050e-02, -4.02170607e+01],\n",
       "        [ 3.78495305e-02, -5.89672812e+01]],\n",
       "\n",
       "       [[-2.27288143e-01, -4.10208155e+00],\n",
       "        [ 1.75055477e+00, -1.16489009e+01],\n",
       "        [ 2.53062011e+00,  7.97090471e+01],\n",
       "        ...,\n",
       "        [-5.75334054e+00,  8.29792024e+00],\n",
       "        [ 2.39192198e+00, -3.78022771e+01],\n",
       "        [-7.62518231e-01,  6.37455419e+01]],\n",
       "\n",
       "       [[-3.02118933e-01, -1.10796830e+00],\n",
       "        [-7.83132751e-01,  1.12347356e+02],\n",
       "        [ 5.85964325e-01, -1.32118044e+01],\n",
       "        ...,\n",
       "        [-2.87003382e-01,  3.93705450e+01],\n",
       "        [-1.83312937e+00, -1.54665240e+02],\n",
       "        [-2.47861392e-01,  1.50611394e+01]],\n",
       "\n",
       "       ...,\n",
       "\n",
       "       [[-2.55286460e-01, -1.80542006e+02],\n",
       "        [ 8.55557552e-02,  2.01644361e+01],\n",
       "        [ 2.43996313e-02, -5.37942979e+00],\n",
       "        ...,\n",
       "        [ 6.74213512e-02,  3.01980506e+02],\n",
       "        [ 1.49700795e-01,  1.11308559e+02],\n",
       "        [ 7.25845180e-03, -2.15515266e+02]],\n",
       "\n",
       "       [[ 9.99894861e-02,  9.41916689e+01],\n",
       "        [-1.00435015e-01, -1.80590098e+01],\n",
       "        [-2.21623162e-01, -3.01272265e+01],\n",
       "        ...,\n",
       "        [-6.19048129e-01, -5.58412639e+01],\n",
       "        [-2.59954980e+00,  1.85757844e+02],\n",
       "        [ 7.74954959e-01, -6.21527742e+01]],\n",
       "\n",
       "       [[ 1.37620983e+00, -9.65900396e+00],\n",
       "        [-1.93640076e-02, -3.00569458e+01],\n",
       "        [-6.81886401e-04, -2.12696874e+01],\n",
       "        ...,\n",
       "        [-3.20604206e-02,  6.40112785e+01],\n",
       "        [ 1.24798923e+00,  2.23872159e+01],\n",
       "        [-5.51762045e-01, -4.12062970e+01]]])"
      ]
     },
     "execution_count": 23,
     "metadata": {},
     "output_type": "execute_result"
    }
   ],
   "source": [
    "array6 = array4 * array5\n",
    "array6"
   ]
  },
  {
   "cell_type": "code",
   "execution_count": null,
   "metadata": {},
   "outputs": [],
   "source": [
    "np.mat."
   ]
  }
 ],
 "metadata": {
  "kernelspec": {
   "display_name": "Python 3",
   "language": "python",
   "name": "python3"
  },
  "language_info": {
   "codemirror_mode": {
    "name": "ipython",
    "version": 3
   },
   "file_extension": ".py",
   "mimetype": "text/x-python",
   "name": "python",
   "nbconvert_exporter": "python",
   "pygments_lexer": "ipython3",
   "version": "3.7.0"
  }
 },
 "nbformat": 4,
 "nbformat_minor": 2
}
