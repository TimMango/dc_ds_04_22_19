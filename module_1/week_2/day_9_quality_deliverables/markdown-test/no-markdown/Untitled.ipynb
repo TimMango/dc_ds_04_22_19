{
 "cells": [
  {
   "cell_type": "code",
   "execution_count": 2,
   "metadata": {},
   "outputs": [
    {
     "name": "stdout",
     "output_type": "stream",
     "text": [
      "/Users/Mango/Desktop/Flatiron_Warmups/dc_ds_04_22_19/module_1/week_2/day_9_quality_deliverables/markdown-test/no-markdown\r\n"
     ]
    }
   ],
   "source": [
    "!pwd"
   ]
  },
  {
   "cell_type": "markdown",
   "metadata": {},
   "source": [
    "# Predicting tomorrow's rainfall in Australia\n",
    "\n",
    "## Executive summary\n",
    "\n",
    "The goal of this analysis is to predict whether it will rain tomorrow in a given city in Australia, based on today's weather. We analyzed a Kaggle dataset of (daily weather data <- bold 'daily weather data' and delete everything else in the parentheses!) collected in 49 Australian cities between 2010 and 2018. *The final model had an 83.9% accuracy rate in predicting whether or not it would rain tomorrow vs. a baseline model accuracy of 77.8%.*\n",
    "\n",
    "![pic](rainfall_map.png)\n",
    "\n",
    "Contents\n",
    "\n",
    "Introduction\n",
    "    Problem statement\n",
    "    Dataset\n",
    "Analysis\n",
    "    Data cleaning\n",
    "    Exploratory data analysis\n",
    "    Modeling\n",
    "    Metrics\n",
    "Next steps\n",
    "\n",
    "\n",
    "Introduction\n",
    "\n",
    "Problem statement\n",
    "\n",
    "Our goal is to predict whether or not it will rain tomorrow, in a given city in Australia, based on today's weather, using replicable machine learning techniques. We used two separate modeling techniques (Decision Tree and Random Forest) to create these forecasts.\n",
    "\n",
    "Dataset\n",
    "\n",
    "The analysis is based on this Kaggle dataset https://www.kaggle.com/jsphyg/weather-dataset-rattle-package of daily weather data collected in 49 Australian cities between 2010 and 2018. The dataset consists of 22 numerical and categorical features, and 1 target classification variable.\n",
    "\n",
    "Analysis\n",
    "\n",
    "Data cleaning\n",
    "\n",
    "We had duplicate data, missing values, and impossible values that we had to rectify before proceeding to modeling.\n",
    "\n",
    "Exploratory data analysis\n",
    "\n",
    "We found some signficant correlations in our data that we had to explore further.\n",
    "\n",
    "Modeling\n",
    "\n",
    "Our analysis used both Decision Tree and Random Forest classifier models.\n",
    "\n",
    "We can create multiline Python code with syntax highlighting:\n",
    "\n",
    "def model():\n",
    "    for kind in models:\n",
    "        start = time.time()\n",
    "        if kind == 'Tree':\n",
    "            model = tree.DecisionTreeClassifier()\n",
    "        else : \n",
    "            model = ensemble.RandomForestClassifier()\n",
    "\n",
    "Metrics\n",
    "\n",
    "We create a confusion matrix to calculate classification metrics using the sklearn.metrics.confusion_matrix() method.\n",
    "\n",
    "Next Steps\n",
    "\n",
    "![pic2](https://i.imgur.com/3fkDIms.jpg)"
   ]
  },
  {
   "cell_type": "code",
   "execution_count": null,
   "metadata": {},
   "outputs": [],
   "source": []
  }
 ],
 "metadata": {
  "kernelspec": {
   "display_name": "Python 3",
   "language": "python",
   "name": "python3"
  },
  "language_info": {
   "codemirror_mode": {
    "name": "ipython",
    "version": 3
   },
   "file_extension": ".py",
   "mimetype": "text/x-python",
   "name": "python",
   "nbconvert_exporter": "python",
   "pygments_lexer": "ipython3",
   "version": "3.7.0"
  }
 },
 "nbformat": 4,
 "nbformat_minor": 2
}
