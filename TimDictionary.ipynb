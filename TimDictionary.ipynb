{
 "cells": [
  {
   "cell_type": "markdown",
   "metadata": {},
   "source": [
    "# Dictionaries check in"
   ]
  },
  {
   "cell_type": "markdown",
   "metadata": {},
   "source": [
    "### Import packages"
   ]
  },
  {
   "cell_type": "code",
   "execution_count": 1,
   "metadata": {},
   "outputs": [],
   "source": [
    "import requests"
   ]
  },
  {
   "cell_type": "markdown",
   "metadata": {},
   "source": [
    "### API call - we will use google books to query for a Harry Potter book "
   ]
  },
  {
   "cell_type": "code",
   "execution_count": 2,
   "metadata": {},
   "outputs": [],
   "source": [
    "response = requests.get('https://www.googleapis.com/books/v1/volumes?q=isbn:0747532699')"
   ]
  },
  {
   "cell_type": "code",
   "execution_count": 3,
   "metadata": {},
   "outputs": [],
   "source": [
    "harry_dict = response.json()"
   ]
  },
  {
   "cell_type": "code",
   "execution_count": 4,
   "metadata": {},
   "outputs": [
    {
     "data": {
      "text/plain": [
       "{'kind': 'books#volumes',\n",
       " 'totalItems': 1,\n",
       " 'items': [{'kind': 'books#volume',\n",
       "   'id': 'yZ1APgAACAAJ',\n",
       "   'etag': 'Wd66FTmnj2I',\n",
       "   'selfLink': 'https://www.googleapis.com/books/v1/volumes/yZ1APgAACAAJ',\n",
       "   'volumeInfo': {'title': \"Harry Potter 1 and the Philosopher's Stone\",\n",
       "    'authors': ['J. K. Rowling'],\n",
       "    'publisher': 'Bloomsbury Pub Limited',\n",
       "    'publishedDate': '1997',\n",
       "    'description': \"Harry Potter is an ordinary boy who lives in a cupboard under the stairs at his Aunt Petunia and Uncle Vernon's house, which he thinks is normal for someone like him who's parents have been killed in a 'car crash'. He is bullied by them and his fat, spoilt cousin Dudley, and lives a very unremarkable life with only the odd hiccup (like his hair growing back overnight!) to cause him much to think about. That is until an owl turns up with a letter addressed to Harry and all hell breaks loose! He is literally rescued by a world where nothing is as it seems and magic lessons are the order of the day. Read and find out how Harry discovers his true heritage at Hogwarts School of Wizardry and Witchcraft, the reason behind his parents mysterious death, who is out to kill him, and how he uncovers the most amazing secret of all time, the fabled Philosopher's Stone! All this and muggles too. Now, what are they?\",\n",
       "    'industryIdentifiers': [{'type': 'ISBN_10', 'identifier': '0747532699'},\n",
       "     {'type': 'ISBN_13', 'identifier': '9780747532699'}],\n",
       "    'readingModes': {'text': False, 'image': False},\n",
       "    'pageCount': 223,\n",
       "    'printType': 'BOOK',\n",
       "    'categories': ['Juvenile Fiction'],\n",
       "    'averageRating': 4.5,\n",
       "    'ratingsCount': 19,\n",
       "    'maturityRating': 'NOT_MATURE',\n",
       "    'allowAnonLogging': False,\n",
       "    'contentVersion': 'preview-1.0.0',\n",
       "    'imageLinks': {'smallThumbnail': 'http://books.google.com/books/content?id=yZ1APgAACAAJ&printsec=frontcover&img=1&zoom=5&source=gbs_api',\n",
       "     'thumbnail': 'http://books.google.com/books/content?id=yZ1APgAACAAJ&printsec=frontcover&img=1&zoom=1&source=gbs_api'},\n",
       "    'language': 'en',\n",
       "    'previewLink': 'http://books.google.com/books?id=yZ1APgAACAAJ&dq=isbn:0747532699&hl=&cd=1&source=gbs_api',\n",
       "    'infoLink': 'http://books.google.com/books?id=yZ1APgAACAAJ&dq=isbn:0747532699&hl=&source=gbs_api',\n",
       "    'canonicalVolumeLink': 'https://books.google.com/books/about/Harry_Potter_1_and_the_Philosopher_s_Sto.html?hl=&id=yZ1APgAACAAJ'},\n",
       "   'saleInfo': {'country': 'US',\n",
       "    'saleability': 'NOT_FOR_SALE',\n",
       "    'isEbook': False},\n",
       "   'accessInfo': {'country': 'US',\n",
       "    'viewability': 'NO_PAGES',\n",
       "    'embeddable': False,\n",
       "    'publicDomain': False,\n",
       "    'textToSpeechPermission': 'ALLOWED',\n",
       "    'epub': {'isAvailable': False},\n",
       "    'pdf': {'isAvailable': False},\n",
       "    'webReaderLink': 'http://play.google.com/books/reader?id=yZ1APgAACAAJ&hl=&printsec=frontcover&source=gbs_api',\n",
       "    'accessViewStatus': 'NONE',\n",
       "    'quoteSharingAllowed': False},\n",
       "   'searchInfo': {'textSnippet': 'Harry Potter is an ordinary boy who lives in a cupboard under the stairs at his Aunt Petunia and Uncle Vernon&#39;s house, which he thinks is normal for someone like him who&#39;s parents have been killed in a &#39;car crash&#39;.'}}]}"
      ]
     },
     "execution_count": 4,
     "metadata": {},
     "output_type": "execute_result"
    }
   ],
   "source": [
    "harry_dict"
   ]
  },
  {
   "cell_type": "markdown",
   "metadata": {},
   "source": [
    "### Questions:"
   ]
  },
  {
   "cell_type": "markdown",
   "metadata": {},
   "source": [
    "1. Add yourself to the authors list"
   ]
  },
  {
   "cell_type": "code",
   "execution_count": 5,
   "metadata": {
    "scrolled": true
   },
   "outputs": [],
   "source": [
    "harry_dict['items'][0]['volumeInfo']['authors'] = ['J.K. Rowling', 'Tim mango']"
   ]
  },
  {
   "cell_type": "code",
   "execution_count": 42,
   "metadata": {},
   "outputs": [
    {
     "data": {
      "text/plain": [
       "{'title': \"Harry Potter 1 and the Philosopher's Stone\",\n",
       " 'authors': ['J.K. Rowling', 'Tim mango'],\n",
       " 'publisher': 'Bloomsbury Pub Limited',\n",
       " 'publishedDate': '1997',\n",
       " 'description': \"Harry Potter is an ordinary boy who lives in a cupboard under the stairs at his Aunt Petunia and Uncle Vernon's house, which he thinks is normal for someone like him who's parents have been killed in a 'car crash'. He is bullied by them and his fat, spoilt cousin Dudley, and lives a very unremarkable life with only the odd hiccup (like his hair growing back overnight!) to cause him much to think about. That is until an owl turns up with a letter addressed to Harry and all hell breaks loose! He is literally rescued by a world where nothing is as it seems and magic lessons are the order of the day. Read and find out how Harry discovers his true heritage at Hogwarts School of Wizardry and Witchcraft, the reason behind his parents mysterious death, who is out to kill him, and how he uncovers the most amazing secret of all time, the fabled Philosopher's Stone! All this and muggles too. Now, what are they?\",\n",
       " 'industryIdentifiers': [{'type': 'ISBN_10', 'identifier': '0747532699'},\n",
       "  {'type': 'ISBN_13', 'identifier': '9780747532699'}],\n",
       " 'readingModes': {'text': False, 'image': False},\n",
       " 'pageCount': 223,\n",
       " 'printType': 'BOOK',\n",
       " 'categories': ['Juvenile Fiction'],\n",
       " 'averageRating': 4.5,\n",
       " 'ratingsCount': 19,\n",
       " 'maturityRating': 'NOT_MATURE',\n",
       " 'allowAnonLogging': False,\n",
       " 'contentVersion': 'preview-1.0.0',\n",
       " 'imageLinks': {'smallThumbnail': 'http://books.google.com/books/content?id=yZ1APgAACAAJ&printsec=frontcover&img=1&zoom=5&source=gbs_api',\n",
       "  'thumbnail': 'http://books.google.com/books/content?id=yZ1APgAACAAJ&printsec=frontcover&img=1&zoom=1&source=gbs_api'},\n",
       " 'language': 'en',\n",
       " 'previewLink': 'http://books.google.com/books?id=yZ1APgAACAAJ&dq=isbn:0747532699&hl=&cd=1&source=gbs_api',\n",
       " 'infoLink': 'http://books.google.com/books?id=yZ1APgAACAAJ&dq=isbn:0747532699&hl=&source=gbs_api',\n",
       " 'canonicalVolumeLink': 'https://books.google.com/books/about/Harry_Potter_1_and_the_Philosopher_s_Sto.html?hl=&id=yZ1APgAACAAJ'}"
      ]
     },
     "execution_count": 42,
     "metadata": {},
     "output_type": "execute_result"
    }
   ],
   "source": [
    "##Check\n",
    "harry_dict['items'][0]['volumeInfo']"
   ]
  },
  {
   "cell_type": "markdown",
   "metadata": {},
   "source": [
    "2. Access the description key and replace all mentions of the name Harry Potter with Barry Manilow"
   ]
  },
  {
   "cell_type": "code",
   "execution_count": 8,
   "metadata": {},
   "outputs": [],
   "source": [
    "string = harry_dict['items'][0]['volumeInfo']['description']"
   ]
  },
  {
   "cell_type": "code",
   "execution_count": 9,
   "metadata": {
    "scrolled": true
   },
   "outputs": [
    {
     "data": {
      "text/plain": [
       "\"Barry Manilow is an ordinary boy who lives in a cupboard under the stairs at his Aunt Petunia and Uncle Vernon's house, which he thinks is normal for someone like him who's parents have been killed in a 'car crash'. He is bullied by them and his fat, spoilt cousin Dudley, and lives a very unremarkable life with only the odd hiccup (like his hair growing back overnight!) to cause him much to think about. That is until an owl turns up with a letter addressed to Barry and all hell breaks loose! He is literally rescued by a world where nothing is as it seems and magic lessons are the order of the day. Read and find out how Barry discovers his true heritage at Hogwarts School of Wizardry and Witchcraft, the reason behind his parents mysterious death, who is out to kill him, and how he uncovers the most amazing secret of all time, the fabled Philosopher's Stone! All this and muggles too. Now, what are they?\""
      ]
     },
     "execution_count": 9,
     "metadata": {},
     "output_type": "execute_result"
    }
   ],
   "source": [
    "string2 = string.replace(\"Harry\", \"Barry\")\n",
    "string3 = string2.replace(\"Potter\", \"Manilow\")\n",
    "string3"
   ]
  },
  {
   "cell_type": "code",
   "execution_count": 56,
   "metadata": {},
   "outputs": [],
   "source": [
    "harry_dict['items'][0]['volumeInfo']['description'] = string3"
   ]
  },
  {
   "cell_type": "code",
   "execution_count": 57,
   "metadata": {},
   "outputs": [
    {
     "data": {
      "text/plain": [
       "{'kind': 'books#volumes',\n",
       " 'totalItems': 1,\n",
       " 'items': [{'kind': 'books#volume',\n",
       "   'id': 'yZ1APgAACAAJ',\n",
       "   'etag': 'Wd66FTmnj2I',\n",
       "   'selfLink': 'https://www.googleapis.com/books/v1/volumes/yZ1APgAACAAJ',\n",
       "   'volumeInfo': {'title': \"Harry Potter 1 and the Philosopher's Stone\",\n",
       "    'authors': ['J.K. Rowling', 'Tim mango'],\n",
       "    'publisher': 'Bloomsbury Pub Limited',\n",
       "    'publishedDate': '1997',\n",
       "    'description': \"Barry Manilow is an ordinary boy who lives in a cupboard under the stairs at his Aunt Petunia and Uncle Vernon's house, which he thinks is normal for someone like him who's parents have been killed in a 'car crash'. He is bullied by them and his fat, spoilt cousin Dudley, and lives a very unremarkable life with only the odd hiccup (like his hair growing back overnight!) to cause him much to think about. That is until an owl turns up with a letter addressed to Barry and all hell breaks loose! He is literally rescued by a world where nothing is as it seems and magic lessons are the order of the day. Read and find out how Barry discovers his true heritage at Hogwarts School of Wizardry and Witchcraft, the reason behind his parents mysterious death, who is out to kill him, and how he uncovers the most amazing secret of all time, the fabled Philosopher's Stone! All this and muggles too. Now, what are they?\",\n",
       "    'industryIdentifiers': [{'type': 'ISBN_10', 'identifier': '0747532699'},\n",
       "     {'type': 'ISBN_13', 'identifier': '9780747532699'}],\n",
       "    'readingModes': {'text': False, 'image': False},\n",
       "    'pageCount': 223,\n",
       "    'printType': 'BOOK',\n",
       "    'categories': ['Juvenile Fiction'],\n",
       "    'averageRating': 4.5,\n",
       "    'ratingsCount': 19,\n",
       "    'maturityRating': 'NOT_MATURE',\n",
       "    'allowAnonLogging': False,\n",
       "    'contentVersion': 'preview-1.0.0',\n",
       "    'imageLinks': {'smallThumbnail': 'http://books.google.com/books/content?id=yZ1APgAACAAJ&printsec=frontcover&img=1&zoom=5&source=gbs_api',\n",
       "     'thumbnail': 'http://books.google.com/books/content?id=yZ1APgAACAAJ&printsec=frontcover&img=1&zoom=1&source=gbs_api'},\n",
       "    'language': 'en',\n",
       "    'previewLink': 'http://books.google.com/books?id=yZ1APgAACAAJ&dq=isbn:0747532699&hl=&cd=1&source=gbs_api',\n",
       "    'infoLink': 'http://books.google.com/books?id=yZ1APgAACAAJ&dq=isbn:0747532699&hl=&source=gbs_api',\n",
       "    'canonicalVolumeLink': 'https://books.google.com/books/about/Harry_Potter_1_and_the_Philosopher_s_Sto.html?hl=&id=yZ1APgAACAAJ'},\n",
       "   'saleInfo': {'country': 'US',\n",
       "    'saleability': 'NOT_FOR_SALE',\n",
       "    'isEbook': False},\n",
       "   'accessInfo': {'country': 'US',\n",
       "    'viewability': 'NO_PAGES',\n",
       "    'embeddable': False,\n",
       "    'publicDomain': False,\n",
       "    'textToSpeechPermission': 'ALLOWED',\n",
       "    'epub': {'isAvailable': False},\n",
       "    'pdf': {'isAvailable': False},\n",
       "    'webReaderLink': 'http://play.google.com/books/reader?id=yZ1APgAACAAJ&hl=&printsec=frontcover&source=gbs_api',\n",
       "    'accessViewStatus': 'NONE',\n",
       "    'quoteSharingAllowed': False},\n",
       "   'searchInfo': {'textSnippet': 'Harry Potter is an ordinary boy who lives in a cupboard under the stairs at his Aunt Petunia and Uncle Vernon&#39;s house, which he thinks is normal for someone like him who&#39;s parents have been killed in a &#39;car crash&#39;.'}}]}"
      ]
     },
     "execution_count": 57,
     "metadata": {},
     "output_type": "execute_result"
    }
   ],
   "source": [
    "#Check\n",
    "harry_dict"
   ]
  },
  {
   "cell_type": "markdown",
   "metadata": {},
   "source": [
    "3. Print the industryIdentifiers in the following way:\n",
    "\n",
    "```\n",
    "     \"The type is ISBN 10 with crazy identifier: 0747532699. The second type is ISBN 13 with even longer identifier: 9780747532699\" \n",
    "   ```\n",
    "   \n",
    "Do this by indexing into the dictionary, don't just copy and paste the number"
   ]
  },
  {
   "cell_type": "code",
   "execution_count": 67,
   "metadata": {},
   "outputs": [
    {
     "data": {
      "text/plain": [
       "[{'type': 'ISBN_10', 'identifier': '0747532699'},\n",
       " {'type': 'ISBN_13', 'identifier': '9780747532699'}]"
      ]
     },
     "execution_count": 67,
     "metadata": {},
     "output_type": "execute_result"
    }
   ],
   "source": [
    "harry_dict['items'][0]['volumeInfo']['industryIdentifiers']"
   ]
  },
  {
   "cell_type": "code",
   "execution_count": 78,
   "metadata": {
    "scrolled": true
   },
   "outputs": [
    {
     "ename": "TypeError",
     "evalue": "string indices must be integers",
     "output_type": "error",
     "traceback": [
      "\u001b[0;31m---------------------------------------------------------------------------\u001b[0m",
      "\u001b[0;31mTypeError\u001b[0m                                 Traceback (most recent call last)",
      "\u001b[0;32m<ipython-input-78-32e50b38f3aa>\u001b[0m in \u001b[0;36m<module>\u001b[0;34m()\u001b[0m\n\u001b[1;32m      2\u001b[0m \u001b[0;34m+\u001b[0m\u001b[0;34m\"with crazy identifier:\"\u001b[0m\u001b[0;34m+\u001b[0m\u001b[0mharry_dict\u001b[0m\u001b[0;34m[\u001b[0m\u001b[0;34m'items'\u001b[0m\u001b[0;34m]\u001b[0m\u001b[0;34m[\u001b[0m\u001b[0;36m0\u001b[0m\u001b[0;34m]\u001b[0m\u001b[0;34m[\u001b[0m\u001b[0;34m'volumeInfo'\u001b[0m\u001b[0;34m]\u001b[0m\u001b[0;34m[\u001b[0m\u001b[0;34m'industryIdentifiers'\u001b[0m\u001b[0;34m]\u001b[0m\u001b[0;34m[\u001b[0m\u001b[0;36m0\u001b[0m\u001b[0;34m]\u001b[0m\u001b[0;34m[\u001b[0m\u001b[0;34m'identifier'\u001b[0m\u001b[0;34m]\u001b[0m\u001b[0;34m\u001b[0m\u001b[0m\n\u001b[1;32m      3\u001b[0m \u001b[0;34m+\u001b[0m\u001b[0;34m\". The second type is\"\u001b[0m\u001b[0;34m+\u001b[0m\u001b[0mharry_dict\u001b[0m\u001b[0;34m[\u001b[0m\u001b[0;34m'items'\u001b[0m\u001b[0;34m]\u001b[0m\u001b[0;34m[\u001b[0m\u001b[0;36m0\u001b[0m\u001b[0;34m]\u001b[0m\u001b[0;34m[\u001b[0m\u001b[0;34m'volumeInfo'\u001b[0m\u001b[0;34m]\u001b[0m\u001b[0;34m[\u001b[0m\u001b[0;34m'industryIdentifiers'\u001b[0m\u001b[0;34m]\u001b[0m\u001b[0;34m[\u001b[0m\u001b[0;36m0\u001b[0m\u001b[0;34m]\u001b[0m\u001b[0;34m[\u001b[0m\u001b[0;34m'identifier'\u001b[0m\u001b[0;34m]\u001b[0m\u001b[0;34m[\u001b[0m\u001b[0;36m1\u001b[0m\u001b[0;34m]\u001b[0m\u001b[0;34m[\u001b[0m\u001b[0;34m'type'\u001b[0m\u001b[0;34m]\u001b[0m\u001b[0;34m\u001b[0m\u001b[0m\n\u001b[0;32m----> 4\u001b[0;31m +\"with even longer identifier:\"+harry_dict['items'][0]['volumeInfo']['industryIdentifiers'][1]['identifier']+'.')\n\u001b[0m",
      "\u001b[0;31mTypeError\u001b[0m: string indices must be integers"
     ]
    }
   ],
   "source": [
    "print(\"The type is\"+harry_dict['items'][0]['volumeInfo']['industryIdentifiers'][0]['identifier'][0]['type']\n",
    "+\"with crazy identifier:\"+harry_dict['items'][0]['volumeInfo']['industryIdentifiers'][0]['identifier']\n",
    "+\". The second type is\"+harry_dict['items'][0]['volumeInfo']['industryIdentifiers'][0]['identifier'][1]['type']\n",
    "+\"with even longer identifier:\"+harry_dict['items'][0]['volumeInfo']['industryIdentifiers'][1]['identifier']+'.')"
   ]
  },
  {
   "cell_type": "markdown",
   "metadata": {},
   "source": [
    "4. Wrap it all in a function that can do the same steps (1-3) to any book with a similar Json file. \n",
    "\n",
    "Use the following parameters: dictionary, name_of_author (your name), name_to_replace (e.g. Harry Potter), replacement_name (e.g Barry Manilow)\n",
    "\n",
    "Return the dictionary with the added author name and with Harry Potter replaced. You only need to print out the ISBN numbers the same way as before (don't worry about returning them)"
   ]
  },
  {
   "cell_type": "code",
   "execution_count": 77,
   "metadata": {},
   "outputs": [
    {
     "ename": "SyntaxError",
     "evalue": "invalid syntax (<ipython-input-77-7fdf540f7e3b>, line 1)",
     "output_type": "error",
     "traceback": [
      "\u001b[0;36m  File \u001b[0;32m\"<ipython-input-77-7fdf540f7e3b>\"\u001b[0;36m, line \u001b[0;32m1\u001b[0m\n\u001b[0;31m    def Json_Clean:\u001b[0m\n\u001b[0m                  ^\u001b[0m\n\u001b[0;31mSyntaxError\u001b[0m\u001b[0;31m:\u001b[0m invalid syntax\n"
     ]
    }
   ],
   "source": [
    "def Json_Clean:\n",
    "    #Add Tim to Dict\n",
    "    harry_dict['items'][0]['volumeInfo']['authors'] = ['J.K. Rowling', 'Tim mango']\n",
    "    ##Change Harry to Barry\n",
    "    string = harry_dict['items'][0]['volumeInfo']['description']\n",
    "    string2 = string.replace(\"Harry\", \"Barry\")\n",
    "    string3 = string2.replace(\"Potter\", \"Manilow\")\n",
    "    ##This changes the original dictionary\n",
    "    harry_dict['items'][0]['volumeInfo']['description'] = string3\n",
    "    ##Print out ISBN\n",
    "    print(\"The type is\"+harry_dict['items'][0]['volumeInfo']['industryIdentifiers'][0]['identifier'][0]['type']\n",
    "    +\"with crazy identifier:\"+harry_dict['items'][0]['volumeInfo']['industryIdentifiers'][0]['identifier']\n",
    "    +\". The second type is\" +harry_dict['items'][0]['volumeInfo']['industryIdentifiers'][0]['identifier'][1]['type']\n",
    "    +\"with even longer identifier:\"+harry_dict['items'][0]['volumeInfo']['industryIdentifiers'][1]['identifier']+\".\")"
   ]
  },
  {
   "cell_type": "markdown",
   "metadata": {},
   "source": [
    "[Stretch]\n",
    "5. Create a data frame with the following columns: author, id, publisher, title.\n",
    "Insert to the data frame multiple rows (one for each author). \n",
    "\n",
    "You are supposed to have multiple rows since you added yourself as an author. Insert to the other columns the appropriate data from the harry_dict dictionary."
   ]
  },
  {
   "cell_type": "code",
   "execution_count": null,
   "metadata": {},
   "outputs": [],
   "source": []
  }
 ],
 "metadata": {
  "kernelspec": {
   "display_name": "Python 3",
   "language": "python",
   "name": "python3"
  },
  "language_info": {
   "codemirror_mode": {
    "name": "ipython",
    "version": 3
   },
   "file_extension": ".py",
   "mimetype": "text/x-python",
   "name": "python",
   "nbconvert_exporter": "python",
   "pygments_lexer": "ipython3",
   "version": "3.7.0"
  }
 },
 "nbformat": 4,
 "nbformat_minor": 2
}
